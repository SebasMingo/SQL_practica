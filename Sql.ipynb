{
 "cells": [
  {
   "cell_type": "markdown",
   "metadata": {
    "vscode": {
     "languageId": "bat"
    }
   },
   "source": [
    "1--Selecciona las columnas DisplayName, Location y Reputation de los usuarios con mayor\n",
    "reputación. Ordena los resultados por la columna Reputation de forma descendente y\n",
    "presenta los resultados en una tabla mostrando solo las columnas DisplayName,\n",
    "Location y Reputation."
   ]
  },
  {
   "cell_type": "code",
   "execution_count": null,
   "metadata": {
    "vscode": {
     "languageId": "sql"
    }
   },
   "outputs": [],
   "source": [
    "SELECT DisplayName, Location, Reputation\n",
    "FROM Users\n",
    "ORDER BY Reputation DESC;\n"
   ]
  },
  {
   "cell_type": "markdown",
   "metadata": {},
   "source": [
    "2--Selecciona la columna Title de la tabla Posts junto con el DisplayName de los usuarios\n",
    "que lo publicaron para aquellos posts que tienen un propietario.\n",
    "Para lograr esto une las tablas Posts y Users utilizando OwnerUserId para obtener el\n",
    "nombre del usuario que publicó cada post. Presenta los resultados en una tabla\n",
    "mostrando las columnas Title y DisplayName"
   ]
  },
  {
   "cell_type": "code",
   "execution_count": null,
   "metadata": {
    "vscode": {
     "languageId": "sql"
    }
   },
   "outputs": [],
   "source": [
    "SELECT p.Title, u.DisplayName\n",
    "FROM Posts p\n",
    "INNER JOIN Users u ON p.OwnerUserId = u.Id\n",
    "WHERE p.OwnerUserId IS NOT NULL;\n"
   ]
  },
  {
   "cell_type": "markdown",
   "metadata": {},
   "source": [
    "3--Calcula el promedio de Score de los Posts por cada usuario y muestra el DisplayName\n",
    "del usuario junto con el promedio de Score.\n",
    "Para esto agrupa los posts por OwnerUserId, calcula el promedio de Score para cada\n",
    "usuario y muestra el resultado junto con el nombre del usuario. Presenta los resultados\n",
    "en una tabla mostrando las columnas DisplayName y el promedio de Score"
   ]
  },
  {
   "cell_type": "code",
   "execution_count": null,
   "metadata": {
    "vscode": {
     "languageId": "sql"
    }
   },
   "outputs": [],
   "source": [
    "SELECT Users.DisplayName, AVG(posts.Score) AS AvgScore\n",
    "FROM posts p\n",
    "INNER JOIN Users  ON posts.OwnerUserId = Users.Id\n",
    "GROUP BY users.DisplayName;\n"
   ]
  },
  {
   "cell_type": "markdown",
   "metadata": {},
   "source": [
    "4--Encuentra el DisplayName de los usuarios que han realizado más de 100 comentarios\n",
    "en total. Para esto utiliza una subconsulta para calcular el total de comentarios por\n",
    "usuario y luego filtra aquellos usuarios que hayan realizado más de 100 comentarios en\n",
    "total. Presenta los resultados en una tabla mostrando el DisplayName de los usuarios"
   ]
  },
  {
   "cell_type": "code",
   "execution_count": null,
   "metadata": {
    "vscode": {
     "languageId": "sql"
    }
   },
   "outputs": [],
   "source": [
    "SELECT u.DisplayName\n",
    "FROM Users u\n",
    "WHERE Users.Id IN (\n",
    "    SELECT Comments.UserId\n",
    "    FROM Comments\n",
    "    GROUP BY Comments.UserId\n",
    "    HAVING COUNT(Comments.ID) > 100\n",
    ");\n"
   ]
  },
  {
   "cell_type": "markdown",
   "metadata": {},
   "source": [
    "5-Actualiza la columna Location de la tabla Users cambiando todas las ubicaciones vacías\n",
    "por \"Desconocido\". Utiliza una consulta de actualización para cambiar las ubicaciones\n",
    "vacías. Muestra un mensaje indicando que la actualización se realizó correctamente."
   ]
  },
  {
   "cell_type": "code",
   "execution_count": null,
   "metadata": {
    "vscode": {
     "languageId": "sql"
    }
   },
   "outputs": [],
   "source": [
    "UPDATE Users\n",
    "SET Location = 'Desconocido'\n",
    "WHERE Location IS NULL or Location = '';\n"
   ]
  },
  {
   "cell_type": "markdown",
   "metadata": {},
   "source": [
    "6--Elimina todos los comentarios realizados por usuarios con menos de 100 de reputación.\n",
    "Utiliza una consulta de eliminación para eliminar todos los comentarios realizados y\n",
    "muestra un mensaje indicando cuántos comentarios fueron eliminados"
   ]
  },
  {
   "cell_type": "code",
   "execution_count": null,
   "metadata": {
    "vscode": {
     "languageId": "sql"
    }
   },
   "outputs": [],
   "source": [
    "BEGIN TRANSACTION;\n",
    "\n",
    "DELETE FROM Comments\n",
    "WHERE UserId IN (SELECT Id FROM Users WHERE Reputation < 100);\n"
   ]
  },
  {
   "cell_type": "markdown",
   "metadata": {},
   "source": [
    "7--Para cada usuario, muestra el número total de publicaciones (Posts), comentarios\n",
    "(Comments) y medallas (Badges) que han realizado. Utiliza uniones (JOIN) para combinar\n",
    "la información de las tablas Posts, Comments y Badges por usuario. Presenta los\n",
    "resultados en una tabla mostrando el DisplayName del usuario junto con el total de\n",
    "publicaciones, comentarios y medallas"
   ]
  },
  {
   "cell_type": "code",
   "execution_count": null,
   "metadata": {
    "vscode": {
     "languageId": "sql"
    }
   },
   "outputs": [],
   "source": [
    "SELECT \n",
    "    u.DisplayName, \n",
    "    COUNT(p.Id) AS TotalPosts, \n",
    "    COUNT(c.Id) AS TotalComments, \n",
    "    COUNT(b.Id) AS TotalBadges\n",
    "FROM \n",
    "    Users u\n",
    "LEFT JOIN \n",
    "    Posts p ON u.Id = p.OwnerUserId\n",
    "LEFT JOIN \n",
    "    Comments c ON u.Id = c.UserId\n",
    "LEFT JOIN \n",
    "    Badges b ON u.Id = b.UserId\n",
    "GROUP BY \n",
    "    u.DisplayName;\n"
   ]
  },
  {
   "cell_type": "markdown",
   "metadata": {},
   "source": [
    "8--Muestra las 10 publicaciones más populares basadas en la puntuación (Score) de la\n",
    "tabla Posts. Ordena las publicaciones por puntuación de forma descendente y\n",
    "selecciona solo las 10 primeras. Presenta los resultados en una tabla mostrando el Title\n",
    "de la publicación y su puntuación"
   ]
  },
  {
   "cell_type": "code",
   "execution_count": null,
   "metadata": {
    "vscode": {
     "languageId": "sql"
    }
   },
   "outputs": [],
   "source": [
    "SELECT TOP 10 Title, Score\n",
    "FROM Posts\n",
    "ORDER BY Score DESC;"
   ]
  },
  {
   "cell_type": "markdown",
   "metadata": {},
   "source": [
    "9--Muestra los 5 comentarios más recientes de la tabla Comments. Ordena los comentarios\n",
    "por fecha de creación de forma descendente y selecciona solo los 5 primeros. Presenta\n",
    "los resultados en una tabla mostrando el Text del comentario y la fecha de creación"
   ]
  },
  {
   "cell_type": "code",
   "execution_count": null,
   "metadata": {
    "vscode": {
     "languageId": "sql"
    }
   },
   "outputs": [],
   "source": [
    "SELECT TOP 5 Text, CreationDate\n",
    "FROM Comments\n",
    "ORDER BY CreationDate DESC;\n"
   ]
  }
 ],
 "metadata": {
  "language_info": {
   "name": "python"
  }
 },
 "nbformat": 4,
 "nbformat_minor": 2
}
